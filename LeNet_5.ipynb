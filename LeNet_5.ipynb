{
  "nbformat": 4,
  "nbformat_minor": 0,
  "metadata": {
    "colab": {
      "provenance": []
    },
    "kernelspec": {
      "name": "python3",
      "display_name": "Python 3"
    },
    "language_info": {
      "name": "python"
    }
  },
  "cells": [
    {
      "cell_type": "code",
      "execution_count": 72,
      "metadata": {
        "id": "_6ZK9Etu3me2"
      },
      "outputs": [],
      "source": [
        "import numpy as np\n",
        "import pandas as pd\n",
        "import matplotlib.pyplot as plt\n",
        "import tensorflow as tf\n",
        "from tensorflow import keras\n",
        "from tensorflow.keras import layers\n",
        "from tensorflow.keras.layers import Flatten,Dense\n",
        "from tensorflow.keras.models import Sequential\n",
        "from tensorflow.keras.layers import Conv2D,AveragePooling2D\n",
        "from sklearn.model_selection import train_test_split\n",
        "from sklearn.preprocessing import StandardScaler\n",
        "from keras.datasets import mnist\n"
      ]
    },
    {
      "cell_type": "code",
      "source": [
        "(x_train,y_train) , (x_test,y_test) = mnist.load_data()"
      ],
      "metadata": {
        "id": "4HUW-20OF34f"
      },
      "execution_count": 73,
      "outputs": []
    },
    {
      "cell_type": "code",
      "source": [
        "# Assuming y_train contains integer labels, convert them to one-hot encoding\n",
        "num_classes = 10  # Replace with the actual number of classes in your dataset\n",
        "y_train = tf.keras.utils.to_categorical(y_train, num_classes=num_classes)\n",
        "y_test = tf.keras.utils.to_categorical(y_test, num_classes=num_classes)"
      ],
      "metadata": {
        "id": "AhvoMRR1SFu-"
      },
      "execution_count": 74,
      "outputs": []
    },
    {
      "cell_type": "code",
      "source": [
        "plt.imshow(x_train[4])"
      ],
      "metadata": {
        "colab": {
          "base_uri": "https://localhost:8080/",
          "height": 447
        },
        "id": "QgpXPj5JQR1x",
        "outputId": "ae0e2644-89e8-4f7a-ede2-b6c8287b2dd7"
      },
      "execution_count": 75,
      "outputs": [
        {
          "output_type": "execute_result",
          "data": {
            "text/plain": [
              "<matplotlib.image.AxesImage at 0x7d0b4439f970>"
            ]
          },
          "metadata": {},
          "execution_count": 75
        },
        {
          "output_type": "display_data",
          "data": {
            "text/plain": [
              "<Figure size 640x480 with 1 Axes>"
            ],
            "image/png": "[encoded data removed]"
          },
          "metadata": {}
        }
      ]
    },
    {
      "cell_type": "code",
      "source": [
        "x_train[4].shape"
      ],
      "metadata": {
        "colab": {
          "base_uri": "https://localhost:8080/"
        },
        "id": "9ydl4UlsQmNJ",
        "outputId": "2e2b034f-9b20-4ddd-e0bf-be6b3e08d6e3"
      },
      "execution_count": 76,
      "outputs": [
        {
          "output_type": "execute_result",
          "data": {
            "text/plain": [
              "(28, 28)"
            ]
          },
          "metadata": {},
          "execution_count": 76
        }
      ]
    },
    {
      "cell_type": "code",
      "source": [
        "model = Sequential()\n",
        "\n",
        "model.add(Conv2D(6,kernel_size = (5,5),padding = 'valid', activation = 'tanh', input_shape = (28,28,1)))\n",
        "model.add(AveragePooling2D(strides = 2,pool_size = (2,2),padding  = 'valid'))\n",
        "\n",
        "model.add(Conv2D(16, padding = 'valid', kernel_size = (5,5),activation = 'tanh'))\n",
        "model.add(AveragePooling2D(strides = 2, pool_size = (2,2), padding = 'valid'))\n",
        "\n",
        "model.add(Flatten())\n",
        "\n",
        "model.add(Dense(120,activation = 'tanh'))\n",
        "model.add(Dense(84, activation = 'tanh'))\n",
        "model.add(Dense(10, activation='softmax'))\n",
        "\n",
        "\n"
      ],
      "metadata": {
        "id": "pegc9tMDG6L2"
      },
      "execution_count": 67,
      "outputs": []
    },
    {
      "cell_type": "code",
      "source": [
        "model.summary()"
      ],
      "metadata": {
        "colab": {
          "base_uri": "https://localhost:8080/"
        },
        "id": "BfTN-SKVLMHm",
        "outputId": "26db17b5-4586-4a04-fd6f-667a73b5787f"
      },
      "execution_count": 68,
      "outputs": [
        {
          "output_type": "stream",
          "name": "stdout",
          "text": [
            "Model: \"sequential_10\"\n",
            "_________________________________________________________________\n",
            " Layer (type)                Output Shape              Param #   \n",
            "=================================================================\n",
            " conv2d_18 (Conv2D)          (None, 24, 24, 6)         156       \n",
            "                                                                 \n",
            " average_pooling2d_17 (Aver  (None, 12, 12, 6)         0         \n",
            " agePooling2D)                                                   \n",
            "                                                                 \n",
            " conv2d_19 (Conv2D)          (None, 8, 8, 16)          2416      \n",
            "                                                                 \n",
            " average_pooling2d_18 (Aver  (None, 4, 4, 16)          0         \n",
            " agePooling2D)                                                   \n",
            "                                                                 \n",
            " flatten_6 (Flatten)         (None, 256)               0         \n",
            "                                                                 \n",
            " dense_17 (Dense)            (None, 120)               30840     \n",
            "                                                                 \n",
            " dense_18 (Dense)            (None, 84)                10164     \n",
            "                                                                 \n",
            " dense_19 (Dense)            (None, 10)                850       \n",
            "                                                                 \n",
            "=================================================================\n",
            "Total params: 44426 (173.54 KB)\n",
            "Trainable params: 44426 (173.54 KB)\n",
            "Non-trainable params: 0 (0.00 Byte)\n",
            "_________________________________________________________________\n"
          ]
        }
      ]
    },
    {
      "cell_type": "code",
      "source": [
        "model.compile(optimizer = 'Adam', loss = 'categorical_crossentropy',metrics = ['accuracy'])"
      ],
      "metadata": {
        "id": "naq6BIuyNOje"
      },
      "execution_count": 77,
      "outputs": []
    },
    {
      "cell_type": "code",
      "source": [
        "model.fit(x_train,y_train,epochs = 10,validation_data=(x_test,y_test) )"
      ],
      "metadata": {
        "colab": {
          "base_uri": "https://localhost:8080/"
        },
        "id": "FIKhJvixMfd4",
        "outputId": "2c2fcc75-9e64-4d07-840c-1d24c6b60546"
      },
      "execution_count": null,
      "outputs": [
        {
          "output_type": "stream",
          "name": "stdout",
          "text": [
            "Epoch 1/100\n",
            "1875/1875 [==============================] - 30s 15ms/step - loss: 0.1590 - accuracy: 0.9532 - val_loss: 0.0602 - val_accuracy: 0.9812\n",
            "Epoch 2/100\n",
            "1875/1875 [==============================] - 27s 15ms/step - loss: 0.0630 - accuracy: 0.9805 - val_loss: 0.0535 - val_accuracy: 0.9842\n",
            "Epoch 3/100\n",
            "1875/1875 [==============================] - 28s 15ms/step - loss: 0.0465 - accuracy: 0.9853 - val_loss: 0.0414 - val_accuracy: 0.9871\n",
            "Epoch 4/100\n",
            "1875/1875 [==============================] - 29s 15ms/step - loss: 0.0398 - accuracy: 0.9876 - val_loss: 0.0555 - val_accuracy: 0.9820\n",
            "Epoch 5/100\n",
            "1875/1875 [==============================] - 27s 15ms/step - loss: 0.0330 - accuracy: 0.9895 - val_loss: 0.0391 - val_accuracy: 0.9876\n",
            "Epoch 6/100\n",
            "1875/1875 [==============================] - 27s 14ms/step - loss: 0.0300 - accuracy: 0.9904 - val_loss: 0.0404 - val_accuracy: 0.9886\n",
            "Epoch 7/100\n",
            "1875/1875 [==============================] - 27s 14ms/step - loss: 0.0251 - accuracy: 0.9923 - val_loss: 0.0399 - val_accuracy: 0.9864\n",
            "Epoch 8/100\n",
            "1875/1875 [==============================] - 27s 14ms/step - loss: 0.0214 - accuracy: 0.9929 - val_loss: 0.0433 - val_accuracy: 0.9881\n",
            "Epoch 9/100\n",
            "1875/1875 [==============================] - 27s 14ms/step - loss: 0.0220 - accuracy: 0.9925 - val_loss: 0.0375 - val_accuracy: 0.9893\n",
            "Epoch 10/100\n",
            "1875/1875 [==============================] - 27s 14ms/step - loss: 0.0180 - accuracy: 0.9940 - val_loss: 0.0429 - val_accuracy: 0.9885\n",
            "Epoch 11/100\n",
            "1875/1875 [==============================] - 27s 15ms/step - loss: 0.0169 - accuracy: 0.9948 - val_loss: 0.0431 - val_accuracy: 0.9889\n",
            "Epoch 12/100\n",
            "1875/1875 [==============================] - 27s 14ms/step - loss: 0.0155 - accuracy: 0.9948 - val_loss: 0.0459 - val_accuracy: 0.9882\n",
            "Epoch 13/100\n",
            "1875/1875 [==============================] - 27s 14ms/step - loss: 0.0131 - accuracy: 0.9958 - val_loss: 0.0419 - val_accuracy: 0.9885\n",
            "Epoch 14/100\n",
            "1875/1875 [==============================] - 27s 14ms/step - loss: 0.0139 - accuracy: 0.9953 - val_loss: 0.0526 - val_accuracy: 0.9863\n",
            "Epoch 15/100\n",
            "1875/1875 [==============================] - 27s 15ms/step - loss: 0.0123 - accuracy: 0.9960 - val_loss: 0.0389 - val_accuracy: 0.9899\n",
            "Epoch 16/100\n",
            "1875/1875 [==============================] - 27s 14ms/step - loss: 0.0111 - accuracy: 0.9964 - val_loss: 0.0426 - val_accuracy: 0.9886\n",
            "Epoch 17/100\n",
            "1875/1875 [==============================] - 27s 14ms/step - loss: 0.0111 - accuracy: 0.9966 - val_loss: 0.0468 - val_accuracy: 0.9879\n",
            "Epoch 18/100\n",
            "1875/1875 [==============================] - 26s 14ms/step - loss: 0.0098 - accuracy: 0.9968 - val_loss: 0.0452 - val_accuracy: 0.9886\n",
            "Epoch 19/100\n",
            "1875/1875 [==============================] - 27s 14ms/step - loss: 0.0120 - accuracy: 0.9960 - val_loss: 0.0466 - val_accuracy: 0.9873\n",
            "Epoch 20/100\n",
            "1875/1875 [==============================] - 26s 14ms/step - loss: 0.0095 - accuracy: 0.9966 - val_loss: 0.0463 - val_accuracy: 0.9875\n",
            "Epoch 21/100\n",
            "1875/1875 [==============================] - 26s 14ms/step - loss: 0.0103 - accuracy: 0.9966 - val_loss: 0.0462 - val_accuracy: 0.9873\n",
            "Epoch 22/100\n",
            "1875/1875 [==============================] - 27s 14ms/step - loss: 0.0099 - accuracy: 0.9966 - val_loss: 0.0457 - val_accuracy: 0.9894\n",
            "Epoch 23/100\n",
            "1875/1875 [==============================] - 27s 14ms/step - loss: 0.0103 - accuracy: 0.9967 - val_loss: 0.0433 - val_accuracy: 0.9892\n",
            "Epoch 24/100\n",
            "1875/1875 [==============================] - 27s 14ms/step - loss: 0.0071 - accuracy: 0.9980 - val_loss: 0.0475 - val_accuracy: 0.9882\n",
            "Epoch 25/100\n",
            "1875/1875 [==============================] - 27s 14ms/step - loss: 0.0083 - accuracy: 0.9972 - val_loss: 0.0483 - val_accuracy: 0.9887\n",
            "Epoch 26/100\n",
            "1875/1875 [==============================] - 27s 14ms/step - loss: 0.0060 - accuracy: 0.9982 - val_loss: 0.0483 - val_accuracy: 0.9891\n",
            "Epoch 27/100\n",
            "1875/1875 [==============================] - 27s 14ms/step - loss: 0.0075 - accuracy: 0.9977 - val_loss: 0.0433 - val_accuracy: 0.9903\n",
            "Epoch 28/100\n",
            "1875/1875 [==============================] - 27s 14ms/step - loss: 0.0084 - accuracy: 0.9973 - val_loss: 0.0508 - val_accuracy: 0.9872\n",
            "Epoch 29/100\n",
            "1875/1875 [==============================] - 27s 14ms/step - loss: 0.0068 - accuracy: 0.9977 - val_loss: 0.0464 - val_accuracy: 0.9884\n",
            "Epoch 30/100\n",
            "1875/1875 [==============================] - 28s 15ms/step - loss: 0.0062 - accuracy: 0.9979 - val_loss: 0.0475 - val_accuracy: 0.9884\n",
            "Epoch 31/100\n",
            "1875/1875 [==============================] - 27s 15ms/step - loss: 0.0075 - accuracy: 0.9973 - val_loss: 0.0525 - val_accuracy: 0.9877\n",
            "Epoch 32/100\n",
            "1875/1875 [==============================] - 27s 15ms/step - loss: 0.0059 - accuracy: 0.9979 - val_loss: 0.0475 - val_accuracy: 0.9899\n",
            "Epoch 33/100\n",
            "1875/1875 [==============================] - 27s 14ms/step - loss: 0.0060 - accuracy: 0.9979 - val_loss: 0.0590 - val_accuracy: 0.9871\n",
            "Epoch 34/100\n",
            "1875/1875 [==============================] - 27s 14ms/step - loss: 0.0079 - accuracy: 0.9974 - val_loss: 0.0580 - val_accuracy: 0.9880\n",
            "Epoch 35/100\n",
            "1875/1875 [==============================] - 27s 14ms/step - loss: 0.0057 - accuracy: 0.9981 - val_loss: 0.0642 - val_accuracy: 0.9860\n",
            "Epoch 36/100\n",
            "1875/1875 [==============================] - 27s 14ms/step - loss: 0.0068 - accuracy: 0.9978 - val_loss: 0.0531 - val_accuracy: 0.9890\n",
            "Epoch 37/100\n",
            "1875/1875 [==============================] - 26s 14ms/step - loss: 0.0069 - accuracy: 0.9975 - val_loss: 0.0564 - val_accuracy: 0.9877\n",
            "Epoch 38/100\n",
            "1875/1875 [==============================] - 27s 14ms/step - loss: 0.0062 - accuracy: 0.9980 - val_loss: 0.0544 - val_accuracy: 0.9881\n",
            "Epoch 39/100\n",
            "1875/1875 [==============================] - 26s 14ms/step - loss: 0.0064 - accuracy: 0.9979 - val_loss: 0.0481 - val_accuracy: 0.9893\n",
            "Epoch 40/100\n",
            "1875/1875 [==============================] - 26s 14ms/step - loss: 0.0060 - accuracy: 0.9980 - val_loss: 0.0497 - val_accuracy: 0.9890\n",
            "Epoch 41/100\n",
            "1875/1875 [==============================] - 27s 14ms/step - loss: 0.0071 - accuracy: 0.9977 - val_loss: 0.0487 - val_accuracy: 0.9879\n",
            "Epoch 42/100\n",
            "1875/1875 [==============================] - 27s 14ms/step - loss: 0.0072 - accuracy: 0.9976 - val_loss: 0.0542 - val_accuracy: 0.9886\n",
            "Epoch 43/100\n",
            "1875/1875 [==============================] - 27s 14ms/step - loss: 0.0044 - accuracy: 0.9987 - val_loss: 0.0472 - val_accuracy: 0.9887\n",
            "Epoch 44/100\n",
            "1875/1875 [==============================] - 27s 14ms/step - loss: 0.0067 - accuracy: 0.9979 - val_loss: 0.0587 - val_accuracy: 0.9880\n",
            "Epoch 45/100\n",
            "1875/1875 [==============================] - 27s 14ms/step - loss: 0.0060 - accuracy: 0.9980 - val_loss: 0.0505 - val_accuracy: 0.9885\n",
            "Epoch 46/100\n",
            "1875/1875 [==============================] - 26s 14ms/step - loss: 0.0069 - accuracy: 0.9977 - val_loss: 0.0477 - val_accuracy: 0.9905\n",
            "Epoch 47/100\n",
            "1875/1875 [==============================] - 27s 14ms/step - loss: 0.0058 - accuracy: 0.9980 - val_loss: 0.0459 - val_accuracy: 0.9897\n",
            "Epoch 48/100\n",
            "1875/1875 [==============================] - 27s 14ms/step - loss: 0.0039 - accuracy: 0.9986 - val_loss: 0.0423 - val_accuracy: 0.9918\n",
            "Epoch 49/100\n",
            "1875/1875 [==============================] - 27s 14ms/step - loss: 0.0080 - accuracy: 0.9975 - val_loss: 0.0518 - val_accuracy: 0.9894\n",
            "Epoch 50/100\n",
            "1875/1875 [==============================] - 27s 14ms/step - loss: 0.0054 - accuracy: 0.9979 - val_loss: 0.0564 - val_accuracy: 0.9879\n",
            "Epoch 51/100\n",
            "1875/1875 [==============================] - 27s 15ms/step - loss: 0.0062 - accuracy: 0.9978 - val_loss: 0.0568 - val_accuracy: 0.9875\n",
            "Epoch 52/100\n",
            "1875/1875 [==============================] - 27s 14ms/step - loss: 0.0067 - accuracy: 0.9975 - val_loss: 0.0521 - val_accuracy: 0.9899\n",
            "Epoch 53/100\n",
            "1875/1875 [==============================] - 27s 14ms/step - loss: 0.0042 - accuracy: 0.9987 - val_loss: 0.0553 - val_accuracy: 0.9889\n",
            "Epoch 54/100\n",
            "1875/1875 [==============================] - 27s 14ms/step - loss: 0.0064 - accuracy: 0.9978 - val_loss: 0.0569 - val_accuracy: 0.9881\n",
            "Epoch 55/100\n",
            "1875/1875 [==============================] - 27s 14ms/step - loss: 0.0044 - accuracy: 0.9986 - val_loss: 0.0593 - val_accuracy: 0.9873\n",
            "Epoch 56/100\n",
            "1875/1875 [==============================] - 26s 14ms/step - loss: 0.0077 - accuracy: 0.9974 - val_loss: 0.0656 - val_accuracy: 0.9871\n",
            "Epoch 57/100\n",
            "1875/1875 [==============================] - 27s 14ms/step - loss: 0.0077 - accuracy: 0.9973 - val_loss: 0.0551 - val_accuracy: 0.9883\n",
            "Epoch 58/100\n",
            "1875/1875 [==============================] - 27s 14ms/step - loss: 0.0040 - accuracy: 0.9986 - val_loss: 0.0641 - val_accuracy: 0.9874\n",
            "Epoch 59/100\n",
            "1875/1875 [==============================] - 27s 14ms/step - loss: 0.0051 - accuracy: 0.9982 - val_loss: 0.0619 - val_accuracy: 0.9879\n",
            "Epoch 60/100\n",
            "1875/1875 [==============================] - 27s 14ms/step - loss: 0.0101 - accuracy: 0.9968 - val_loss: 0.0591 - val_accuracy: 0.9875\n",
            "Epoch 61/100\n",
            "1875/1875 [==============================] - 27s 14ms/step - loss: 0.0084 - accuracy: 0.9972 - val_loss: 0.0592 - val_accuracy: 0.9883\n",
            "Epoch 62/100\n",
            "1875/1875 [==============================] - 27s 14ms/step - loss: 0.0060 - accuracy: 0.9980 - val_loss: 0.0562 - val_accuracy: 0.9884\n",
            "Epoch 63/100\n",
            "1875/1875 [==============================] - 30s 16ms/step - loss: 0.0077 - accuracy: 0.9975 - val_loss: 0.0611 - val_accuracy: 0.9870\n",
            "Epoch 64/100\n",
            "1875/1875 [==============================] - 29s 15ms/step - loss: 0.0067 - accuracy: 0.9978 - val_loss: 0.0616 - val_accuracy: 0.9867\n",
            "Epoch 65/100\n",
            "1875/1875 [==============================] - 28s 15ms/step - loss: 0.0055 - accuracy: 0.9981 - val_loss: 0.0612 - val_accuracy: 0.9876\n",
            "Epoch 66/100\n",
            "1875/1875 [==============================] - 28s 15ms/step - loss: 0.0041 - accuracy: 0.9987 - val_loss: 0.0538 - val_accuracy: 0.9883\n",
            "Epoch 67/100\n",
            "1875/1875 [==============================] - 28s 15ms/step - loss: 0.0057 - accuracy: 0.9983 - val_loss: 0.0728 - val_accuracy: 0.9845\n",
            "Epoch 68/100\n",
            "1875/1875 [==============================] - 28s 15ms/step - loss: 0.0061 - accuracy: 0.9977 - val_loss: 0.0687 - val_accuracy: 0.9871\n",
            "Epoch 69/100\n",
            "1875/1875 [==============================] - 29s 15ms/step - loss: 0.0048 - accuracy: 0.9984 - val_loss: 0.0676 - val_accuracy: 0.9866\n",
            "Epoch 70/100\n",
            "1875/1875 [==============================] - 28s 15ms/step - loss: 0.0063 - accuracy: 0.9979 - val_loss: 0.0620 - val_accuracy: 0.9872\n",
            "Epoch 71/100\n",
            "1875/1875 [==============================] - 28s 15ms/step - loss: 0.0062 - accuracy: 0.9980 - val_loss: 0.0543 - val_accuracy: 0.9882\n",
            "Epoch 72/100\n",
            "1875/1875 [==============================] - 31s 16ms/step - loss: 0.0080 - accuracy: 0.9974 - val_loss: 0.0636 - val_accuracy: 0.9872\n",
            "Epoch 73/100\n",
            "1875/1875 [==============================] - 28s 15ms/step - loss: 0.0063 - accuracy: 0.9977 - val_loss: 0.0581 - val_accuracy: 0.9882\n",
            "Epoch 74/100\n",
            "1875/1875 [==============================] - 29s 15ms/step - loss: 0.0035 - accuracy: 0.9989 - val_loss: 0.0566 - val_accuracy: 0.9887\n",
            "Epoch 75/100\n",
            "1875/1875 [==============================] - 28s 15ms/step - loss: 0.0046 - accuracy: 0.9985 - val_loss: 0.0641 - val_accuracy: 0.9862\n",
            "Epoch 76/100\n",
            "1875/1875 [==============================] - 28s 15ms/step - loss: 0.0050 - accuracy: 0.9982 - val_loss: 0.0577 - val_accuracy: 0.9887\n",
            "Epoch 77/100\n",
            "1875/1875 [==============================] - 28s 15ms/step - loss: 0.0082 - accuracy: 0.9972 - val_loss: 0.0604 - val_accuracy: 0.9883\n",
            "Epoch 78/100\n",
            "1875/1875 [==============================] - 28s 15ms/step - loss: 0.0062 - accuracy: 0.9977 - val_loss: 0.0532 - val_accuracy: 0.9896\n",
            "Epoch 79/100\n",
            "1875/1875 [==============================] - 29s 15ms/step - loss: 0.0062 - accuracy: 0.9979 - val_loss: 0.0630 - val_accuracy: 0.9874\n",
            "Epoch 80/100\n",
            "1875/1875 [==============================] - 29s 15ms/step - loss: 0.0046 - accuracy: 0.9984 - val_loss: 0.0513 - val_accuracy: 0.9892\n",
            "Epoch 81/100\n",
            "1875/1875 [==============================] - 28s 15ms/step - loss: 0.0048 - accuracy: 0.9984 - val_loss: 0.0787 - val_accuracy: 0.9848\n",
            "Epoch 82/100\n",
            "1875/1875 [==============================] - 29s 15ms/step - loss: 0.0041 - accuracy: 0.9986 - val_loss: 0.0604 - val_accuracy: 0.9882\n",
            "Epoch 83/100\n",
            "1875/1875 [==============================] - 30s 16ms/step - loss: 0.0054 - accuracy: 0.9982 - val_loss: 0.0659 - val_accuracy: 0.9866\n",
            "Epoch 84/100\n",
            "1875/1875 [==============================] - 29s 15ms/step - loss: 0.0046 - accuracy: 0.9984 - val_loss: 0.0571 - val_accuracy: 0.9886\n",
            "Epoch 85/100\n",
            "1875/1875 [==============================] - 30s 16ms/step - loss: 0.0044 - accuracy: 0.9984 - val_loss: 0.0652 - val_accuracy: 0.9880\n",
            "Epoch 86/100\n",
            "1875/1875 [==============================] - 27s 15ms/step - loss: 0.0118 - accuracy: 0.9963 - val_loss: 0.0658 - val_accuracy: 0.9855\n",
            "Epoch 87/100\n",
            "1875/1875 [==============================] - 28s 15ms/step - loss: 0.0077 - accuracy: 0.9974 - val_loss: 0.0678 - val_accuracy: 0.9867\n",
            "Epoch 88/100\n",
            "1875/1875 [==============================] - 28s 15ms/step - loss: 0.0065 - accuracy: 0.9979 - val_loss: 0.0583 - val_accuracy: 0.9894\n",
            "Epoch 89/100\n",
            "1875/1875 [==============================] - 28s 15ms/step - loss: 0.0042 - accuracy: 0.9986 - val_loss: 0.0576 - val_accuracy: 0.9891\n",
            "Epoch 90/100\n",
            "1875/1875 [==============================] - 27s 15ms/step - loss: 0.0037 - accuracy: 0.9987 - val_loss: 0.0616 - val_accuracy: 0.9883\n",
            "Epoch 91/100\n",
            "1875/1875 [==============================] - 27s 14ms/step - loss: 0.0052 - accuracy: 0.9981 - val_loss: 0.0561 - val_accuracy: 0.9891\n",
            "Epoch 92/100\n",
            "1875/1875 [==============================] - 28s 15ms/step - loss: 0.0063 - accuracy: 0.9977 - val_loss: 0.0618 - val_accuracy: 0.9876\n",
            "Epoch 93/100\n",
            "1875/1875 [==============================] - 29s 16ms/step - loss: 0.0045 - accuracy: 0.9984 - val_loss: 0.0555 - val_accuracy: 0.9898\n",
            "Epoch 94/100\n",
            "1875/1875 [==============================] - 29s 15ms/step - loss: 0.0050 - accuracy: 0.9983 - val_loss: 0.0661 - val_accuracy: 0.9874\n",
            "Epoch 95/100\n",
            "1875/1875 [==============================] - 28s 15ms/step - loss: 0.0051 - accuracy: 0.9984 - val_loss: 0.0685 - val_accuracy: 0.9878\n",
            "Epoch 96/100\n",
            "1875/1875 [==============================] - 28s 15ms/step - loss: 0.0072 - accuracy: 0.9975 - val_loss: 0.0662 - val_accuracy: 0.9876\n",
            "Epoch 97/100\n",
            "1875/1875 [==============================] - 29s 15ms/step - loss: 0.0034 - accuracy: 0.9988 - val_loss: 0.0606 - val_accuracy: 0.9885\n",
            "Epoch 98/100\n",
            "1875/1875 [==============================] - 29s 16ms/step - loss: 0.0047 - accuracy: 0.9983 - val_loss: 0.0713 - val_accuracy: 0.9874\n",
            "Epoch 99/100\n",
            "1875/1875 [==============================] - 28s 15ms/step - loss: 0.0053 - accuracy: 0.9980 - val_loss: 0.0688 - val_accuracy: 0.9879\n",
            "Epoch 100/100\n",
            " 595/1875 [========>.....................] - ETA: 16s - loss: 0.0032 - accuracy: 0.9993"
          ]
        }
      ]
    },
    {
      "cell_type": "code",
      "source": [],
      "metadata": {
        "id": "RQ299hs8OkrW"
      },
      "execution_count": null,
      "outputs": []
    }
  ]
}